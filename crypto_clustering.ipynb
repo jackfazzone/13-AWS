{
 "cells": [
  {
   "cell_type": "markdown",
   "metadata": {},
   "source": [
    "# Clustering Crypto"
   ]
  },
  {
   "cell_type": "code",
   "execution_count": 311,
   "metadata": {},
   "outputs": [],
   "source": [
    "# Initial imports\n",
    "import requests\n",
    "import pandas as pd\n",
    "import matplotlib.pyplot as plt\n",
    "import hvplot.pandas\n",
    "import plotly.express as px\n",
    "from sklearn.preprocessing import StandardScaler, MinMaxScaler\n",
    "from sklearn.decomposition import PCA\n",
    "from sklearn.cluster import KMeans"
   ]
  },
  {
   "cell_type": "markdown",
   "metadata": {},
   "source": [
    "### Fetching Cryptocurrency Data"
   ]
  },
  {
   "cell_type": "code",
   "execution_count": 312,
   "metadata": {},
   "outputs": [],
   "source": [
    "# Use the following endpoint to fetch json data\n",
    "url = \"https://min-api.cryptocompare.com/data/all/coinlist\""
   ]
  },
  {
   "cell_type": "code",
   "execution_count": 313,
   "metadata": {},
   "outputs": [],
   "source": [
    "# Create a DataFrame "
   ]
  },
  {
   "cell_type": "code",
   "execution_count": 314,
   "metadata": {},
   "outputs": [
    {
     "output_type": "stream",
     "name": "stdout",
     "text": [
      "['Unnamed: 0', 'CoinName', 'Algorithm', 'IsTrading', 'ProofType', 'TotalCoinsMined', 'TotalCoinSupply']\n"
     ]
    }
   ],
   "source": [
    "# Alternatively, use the provided csv file:\n",
    "csv = pd.read_csv(\"Resources/crypto_data.csv\")\n",
    "\n",
    "# Create a DataFrame\n",
    "crypto_df = pd.DataFrame(csv)\n",
    "print(list(crypto_df.columns))"
   ]
  },
  {
   "cell_type": "markdown",
   "metadata": {},
   "source": [
    "### Data Preprocessing"
   ]
  },
  {
   "cell_type": "code",
   "execution_count": 315,
   "metadata": {},
   "outputs": [
    {
     "output_type": "execute_result",
     "data": {
      "text/plain": [
       "    CoinName Algorithm  IsTrading ProofType  TotalCoinsMined TotalCoinSupply\n",
       "0    42 Coin    Scrypt       True   PoW/PoS     4.199995e+01              42\n",
       "1    365Coin       X11       True   PoW/PoS              NaN      2300000000\n",
       "2    404Coin    Scrypt       True   PoW/PoS     1.055185e+09       532000000\n",
       "3  SixEleven   SHA-256       True       PoW              NaN          611000\n",
       "4        808   SHA-256       True   PoW/PoS     0.000000e+00               0"
      ],
      "text/html": "<div>\n<style scoped>\n    .dataframe tbody tr th:only-of-type {\n        vertical-align: middle;\n    }\n\n    .dataframe tbody tr th {\n        vertical-align: top;\n    }\n\n    .dataframe thead th {\n        text-align: right;\n    }\n</style>\n<table border=\"1\" class=\"dataframe\">\n  <thead>\n    <tr style=\"text-align: right;\">\n      <th></th>\n      <th>CoinName</th>\n      <th>Algorithm</th>\n      <th>IsTrading</th>\n      <th>ProofType</th>\n      <th>TotalCoinsMined</th>\n      <th>TotalCoinSupply</th>\n    </tr>\n  </thead>\n  <tbody>\n    <tr>\n      <th>0</th>\n      <td>42 Coin</td>\n      <td>Scrypt</td>\n      <td>True</td>\n      <td>PoW/PoS</td>\n      <td>4.199995e+01</td>\n      <td>42</td>\n    </tr>\n    <tr>\n      <th>1</th>\n      <td>365Coin</td>\n      <td>X11</td>\n      <td>True</td>\n      <td>PoW/PoS</td>\n      <td>NaN</td>\n      <td>2300000000</td>\n    </tr>\n    <tr>\n      <th>2</th>\n      <td>404Coin</td>\n      <td>Scrypt</td>\n      <td>True</td>\n      <td>PoW/PoS</td>\n      <td>1.055185e+09</td>\n      <td>532000000</td>\n    </tr>\n    <tr>\n      <th>3</th>\n      <td>SixEleven</td>\n      <td>SHA-256</td>\n      <td>True</td>\n      <td>PoW</td>\n      <td>NaN</td>\n      <td>611000</td>\n    </tr>\n    <tr>\n      <th>4</th>\n      <td>808</td>\n      <td>SHA-256</td>\n      <td>True</td>\n      <td>PoW/PoS</td>\n      <td>0.000000e+00</td>\n      <td>0</td>\n    </tr>\n  </tbody>\n</table>\n</div>"
     },
     "metadata": {},
     "execution_count": 315
    }
   ],
   "source": [
    "# Keep only necessary columns:\n",
    "columns = ['CoinName','Algorithm','IsTrading','ProofType','TotalCoinsMined','TotalCoinSupply']\n",
    "crypto_df.drop(columns=[column for column in crypto_df.columns if column not in columns], inplace=True)\n",
    "crypto_df.head()\n"
   ]
  },
  {
   "cell_type": "code",
   "execution_count": 316,
   "metadata": {},
   "outputs": [
    {
     "output_type": "execute_result",
     "data": {
      "text/plain": [
       "         CoinName    Algorithm  IsTrading ProofType  TotalCoinsMined  \\\n",
       "0         42 Coin       Scrypt       True   PoW/PoS     4.199995e+01   \n",
       "1         365Coin          X11       True   PoW/PoS              NaN   \n",
       "2         404Coin       Scrypt       True   PoW/PoS     1.055185e+09   \n",
       "3       SixEleven      SHA-256       True       PoW              NaN   \n",
       "4             808      SHA-256       True   PoW/PoS     0.000000e+00   \n",
       "...           ...          ...        ...       ...              ...   \n",
       "1243   Super Zero       Ethash       True       PoW              NaN   \n",
       "1244          UOS      SHA-256       True      DPoI              NaN   \n",
       "1245       Beldex  CryptoNight       True       PoW     9.802226e+08   \n",
       "1246      Horizen     Equihash       True       PoW     7.296538e+06   \n",
       "1247  BitcoinPlus       Scrypt       True       PoS     1.283270e+05   \n",
       "\n",
       "     TotalCoinSupply  \n",
       "0                 42  \n",
       "1         2300000000  \n",
       "2          532000000  \n",
       "3             611000  \n",
       "4                  0  \n",
       "...              ...  \n",
       "1243      1000000000  \n",
       "1244      1000000000  \n",
       "1245      1400222610  \n",
       "1246        21000000  \n",
       "1247         1000000  \n",
       "\n",
       "[1144 rows x 6 columns]"
      ],
      "text/html": "<div>\n<style scoped>\n    .dataframe tbody tr th:only-of-type {\n        vertical-align: middle;\n    }\n\n    .dataframe tbody tr th {\n        vertical-align: top;\n    }\n\n    .dataframe thead th {\n        text-align: right;\n    }\n</style>\n<table border=\"1\" class=\"dataframe\">\n  <thead>\n    <tr style=\"text-align: right;\">\n      <th></th>\n      <th>CoinName</th>\n      <th>Algorithm</th>\n      <th>IsTrading</th>\n      <th>ProofType</th>\n      <th>TotalCoinsMined</th>\n      <th>TotalCoinSupply</th>\n    </tr>\n  </thead>\n  <tbody>\n    <tr>\n      <th>0</th>\n      <td>42 Coin</td>\n      <td>Scrypt</td>\n      <td>True</td>\n      <td>PoW/PoS</td>\n      <td>4.199995e+01</td>\n      <td>42</td>\n    </tr>\n    <tr>\n      <th>1</th>\n      <td>365Coin</td>\n      <td>X11</td>\n      <td>True</td>\n      <td>PoW/PoS</td>\n      <td>NaN</td>\n      <td>2300000000</td>\n    </tr>\n    <tr>\n      <th>2</th>\n      <td>404Coin</td>\n      <td>Scrypt</td>\n      <td>True</td>\n      <td>PoW/PoS</td>\n      <td>1.055185e+09</td>\n      <td>532000000</td>\n    </tr>\n    <tr>\n      <th>3</th>\n      <td>SixEleven</td>\n      <td>SHA-256</td>\n      <td>True</td>\n      <td>PoW</td>\n      <td>NaN</td>\n      <td>611000</td>\n    </tr>\n    <tr>\n      <th>4</th>\n      <td>808</td>\n      <td>SHA-256</td>\n      <td>True</td>\n      <td>PoW/PoS</td>\n      <td>0.000000e+00</td>\n      <td>0</td>\n    </tr>\n    <tr>\n      <th>...</th>\n      <td>...</td>\n      <td>...</td>\n      <td>...</td>\n      <td>...</td>\n      <td>...</td>\n      <td>...</td>\n    </tr>\n    <tr>\n      <th>1243</th>\n      <td>Super Zero</td>\n      <td>Ethash</td>\n      <td>True</td>\n      <td>PoW</td>\n      <td>NaN</td>\n      <td>1000000000</td>\n    </tr>\n    <tr>\n      <th>1244</th>\n      <td>UOS</td>\n      <td>SHA-256</td>\n      <td>True</td>\n      <td>DPoI</td>\n      <td>NaN</td>\n      <td>1000000000</td>\n    </tr>\n    <tr>\n      <th>1245</th>\n      <td>Beldex</td>\n      <td>CryptoNight</td>\n      <td>True</td>\n      <td>PoW</td>\n      <td>9.802226e+08</td>\n      <td>1400222610</td>\n    </tr>\n    <tr>\n      <th>1246</th>\n      <td>Horizen</td>\n      <td>Equihash</td>\n      <td>True</td>\n      <td>PoW</td>\n      <td>7.296538e+06</td>\n      <td>21000000</td>\n    </tr>\n    <tr>\n      <th>1247</th>\n      <td>BitcoinPlus</td>\n      <td>Scrypt</td>\n      <td>True</td>\n      <td>PoS</td>\n      <td>1.283270e+05</td>\n      <td>1000000</td>\n    </tr>\n  </tbody>\n</table>\n<p>1144 rows × 6 columns</p>\n</div>"
     },
     "metadata": {},
     "execution_count": 316
    }
   ],
   "source": [
    "# Keep only cryptocurrencies that are trading\n",
    "# Citation: https://stackoverflow.com/questions/18172851/deleting-dataframe-row-in-pandas-based-on-column-value\n",
    "crypto_df = crypto_df[crypto_df.IsTrading != False]\n",
    "crypto_df"
   ]
  },
  {
   "cell_type": "code",
   "execution_count": 317,
   "metadata": {},
   "outputs": [
    {
     "output_type": "execute_result",
     "data": {
      "text/plain": [
       "{'1GB AES Pattern Search',\n",
       " '536',\n",
       " 'Argon2',\n",
       " 'Argon2d',\n",
       " 'BLAKE256',\n",
       " 'Blake',\n",
       " 'Blake2S',\n",
       " 'Blake2b',\n",
       " 'C11',\n",
       " 'Cloverhash',\n",
       " 'Counterparty',\n",
       " 'CryptoNight',\n",
       " 'CryptoNight Heavy',\n",
       " 'CryptoNight Heavy X',\n",
       " 'CryptoNight-Lite',\n",
       " 'CryptoNight-V7',\n",
       " 'CryptoNight-lite',\n",
       " 'Cryptonight-GPU',\n",
       " 'Curve25519',\n",
       " 'DPoS',\n",
       " 'Dagger',\n",
       " 'Dagger-Hashimoto',\n",
       " 'ECC 256K1',\n",
       " 'Equihash',\n",
       " 'Equihash+Scrypt',\n",
       " 'Equihash1927',\n",
       " 'Ethash',\n",
       " 'Exosis',\n",
       " 'Green Protocol',\n",
       " 'Groestl',\n",
       " 'HMQ1725',\n",
       " 'HybridScryptHash256',\n",
       " 'IMesh',\n",
       " 'Jump Consistent Hash',\n",
       " 'Keccak',\n",
       " 'Leased POS',\n",
       " 'Lyra2RE',\n",
       " 'Lyra2REv2',\n",
       " 'Lyra2Z',\n",
       " 'M7 POW',\n",
       " 'Momentum',\n",
       " 'Multiple',\n",
       " 'NIST5',\n",
       " 'NeoScrypt',\n",
       " 'Ouroboros',\n",
       " 'PHI1612',\n",
       " 'POS 2.0',\n",
       " 'POS 3.0',\n",
       " 'PoS',\n",
       " 'Progressive-n',\n",
       " 'Proof-of-Authority',\n",
       " 'Proof-of-BibleHash',\n",
       " 'QUAIT',\n",
       " 'QuBit',\n",
       " 'Quark',\n",
       " 'QuarkTX',\n",
       " 'Rainforest',\n",
       " 'SHA-256',\n",
       " 'SHA-256 + Hive',\n",
       " 'SHA-256D',\n",
       " 'SHA-512',\n",
       " 'SHA3',\n",
       " 'SHA3-256',\n",
       " 'Scrypt',\n",
       " 'Scrypt-n',\n",
       " 'Semux BFT consensus',\n",
       " 'Shabal256',\n",
       " 'Skein',\n",
       " 'SkunkHash',\n",
       " 'SkunkHash v2 Raptor',\n",
       " 'Slatechain',\n",
       " 'Stanford Folding',\n",
       " 'T-Inside',\n",
       " 'TRC10',\n",
       " 'Time Travel',\n",
       " 'Tribus',\n",
       " 'VBFT',\n",
       " 'VeChainThor Authority',\n",
       " 'X11',\n",
       " 'X11GOST',\n",
       " 'X13',\n",
       " 'X14',\n",
       " 'X15',\n",
       " 'X16R',\n",
       " 'XEVAN',\n",
       " 'XG Hash',\n",
       " 'YescryptR16',\n",
       " 'Zhash',\n",
       " 'vDPOS'}"
      ]
     },
     "metadata": {},
     "execution_count": 317
    }
   ],
   "source": [
    "# Keep only cryptocurrencies with a working algorithm\n",
    "crypto_df = crypto_df[crypto_df.Algorithm != False]\n",
    "set(crypto_df.Algorithm)"
   ]
  },
  {
   "cell_type": "code",
   "execution_count": 318,
   "metadata": {},
   "outputs": [
    {
     "output_type": "execute_result",
     "data": {
      "text/plain": [
       "         CoinName    Algorithm ProofType  TotalCoinsMined TotalCoinSupply\n",
       "0         42 Coin       Scrypt   PoW/PoS     4.199995e+01              42\n",
       "1         365Coin          X11   PoW/PoS              NaN      2300000000\n",
       "2         404Coin       Scrypt   PoW/PoS     1.055185e+09       532000000\n",
       "3       SixEleven      SHA-256       PoW              NaN          611000\n",
       "4             808      SHA-256   PoW/PoS     0.000000e+00               0\n",
       "...           ...          ...       ...              ...             ...\n",
       "1243   Super Zero       Ethash       PoW              NaN      1000000000\n",
       "1244          UOS      SHA-256      DPoI              NaN      1000000000\n",
       "1245       Beldex  CryptoNight       PoW     9.802226e+08      1400222610\n",
       "1246      Horizen     Equihash       PoW     7.296538e+06        21000000\n",
       "1247  BitcoinPlus       Scrypt       PoS     1.283270e+05         1000000\n",
       "\n",
       "[1144 rows x 5 columns]"
      ],
      "text/html": "<div>\n<style scoped>\n    .dataframe tbody tr th:only-of-type {\n        vertical-align: middle;\n    }\n\n    .dataframe tbody tr th {\n        vertical-align: top;\n    }\n\n    .dataframe thead th {\n        text-align: right;\n    }\n</style>\n<table border=\"1\" class=\"dataframe\">\n  <thead>\n    <tr style=\"text-align: right;\">\n      <th></th>\n      <th>CoinName</th>\n      <th>Algorithm</th>\n      <th>ProofType</th>\n      <th>TotalCoinsMined</th>\n      <th>TotalCoinSupply</th>\n    </tr>\n  </thead>\n  <tbody>\n    <tr>\n      <th>0</th>\n      <td>42 Coin</td>\n      <td>Scrypt</td>\n      <td>PoW/PoS</td>\n      <td>4.199995e+01</td>\n      <td>42</td>\n    </tr>\n    <tr>\n      <th>1</th>\n      <td>365Coin</td>\n      <td>X11</td>\n      <td>PoW/PoS</td>\n      <td>NaN</td>\n      <td>2300000000</td>\n    </tr>\n    <tr>\n      <th>2</th>\n      <td>404Coin</td>\n      <td>Scrypt</td>\n      <td>PoW/PoS</td>\n      <td>1.055185e+09</td>\n      <td>532000000</td>\n    </tr>\n    <tr>\n      <th>3</th>\n      <td>SixEleven</td>\n      <td>SHA-256</td>\n      <td>PoW</td>\n      <td>NaN</td>\n      <td>611000</td>\n    </tr>\n    <tr>\n      <th>4</th>\n      <td>808</td>\n      <td>SHA-256</td>\n      <td>PoW/PoS</td>\n      <td>0.000000e+00</td>\n      <td>0</td>\n    </tr>\n    <tr>\n      <th>...</th>\n      <td>...</td>\n      <td>...</td>\n      <td>...</td>\n      <td>...</td>\n      <td>...</td>\n    </tr>\n    <tr>\n      <th>1243</th>\n      <td>Super Zero</td>\n      <td>Ethash</td>\n      <td>PoW</td>\n      <td>NaN</td>\n      <td>1000000000</td>\n    </tr>\n    <tr>\n      <th>1244</th>\n      <td>UOS</td>\n      <td>SHA-256</td>\n      <td>DPoI</td>\n      <td>NaN</td>\n      <td>1000000000</td>\n    </tr>\n    <tr>\n      <th>1245</th>\n      <td>Beldex</td>\n      <td>CryptoNight</td>\n      <td>PoW</td>\n      <td>9.802226e+08</td>\n      <td>1400222610</td>\n    </tr>\n    <tr>\n      <th>1246</th>\n      <td>Horizen</td>\n      <td>Equihash</td>\n      <td>PoW</td>\n      <td>7.296538e+06</td>\n      <td>21000000</td>\n    </tr>\n    <tr>\n      <th>1247</th>\n      <td>BitcoinPlus</td>\n      <td>Scrypt</td>\n      <td>PoS</td>\n      <td>1.283270e+05</td>\n      <td>1000000</td>\n    </tr>\n  </tbody>\n</table>\n<p>1144 rows × 5 columns</p>\n</div>"
     },
     "metadata": {},
     "execution_count": 318
    }
   ],
   "source": [
    "# Remove the \"IsTrading\" column\n",
    "crypto_df.drop(columns='IsTrading', inplace=True)\n",
    "crypto_df"
   ]
  },
  {
   "cell_type": "code",
   "execution_count": 319,
   "metadata": {},
   "outputs": [
    {
     "output_type": "stream",
     "name": "stdout",
     "text": [
      "Column CoinName has 0 null values\nColumn Algorithm has 0 null values\nColumn ProofType has 0 null values\nColumn TotalCoinsMined has 459 null values\nColumn TotalCoinSupply has 0 null values\n"
     ]
    },
    {
     "output_type": "execute_result",
     "data": {
      "text/plain": [
       "    CoinName Algorithm ProofType  TotalCoinsMined TotalCoinSupply\n",
       "0    42 Coin    Scrypt   PoW/PoS     4.199995e+01              42\n",
       "1    365Coin       X11   PoW/PoS              NaN      2300000000\n",
       "2    404Coin    Scrypt   PoW/PoS     1.055185e+09       532000000\n",
       "3  SixEleven   SHA-256       PoW              NaN          611000\n",
       "4        808   SHA-256   PoW/PoS     0.000000e+00               0"
      ],
      "text/html": "<div>\n<style scoped>\n    .dataframe tbody tr th:only-of-type {\n        vertical-align: middle;\n    }\n\n    .dataframe tbody tr th {\n        vertical-align: top;\n    }\n\n    .dataframe thead th {\n        text-align: right;\n    }\n</style>\n<table border=\"1\" class=\"dataframe\">\n  <thead>\n    <tr style=\"text-align: right;\">\n      <th></th>\n      <th>CoinName</th>\n      <th>Algorithm</th>\n      <th>ProofType</th>\n      <th>TotalCoinsMined</th>\n      <th>TotalCoinSupply</th>\n    </tr>\n  </thead>\n  <tbody>\n    <tr>\n      <th>0</th>\n      <td>42 Coin</td>\n      <td>Scrypt</td>\n      <td>PoW/PoS</td>\n      <td>4.199995e+01</td>\n      <td>42</td>\n    </tr>\n    <tr>\n      <th>1</th>\n      <td>365Coin</td>\n      <td>X11</td>\n      <td>PoW/PoS</td>\n      <td>NaN</td>\n      <td>2300000000</td>\n    </tr>\n    <tr>\n      <th>2</th>\n      <td>404Coin</td>\n      <td>Scrypt</td>\n      <td>PoW/PoS</td>\n      <td>1.055185e+09</td>\n      <td>532000000</td>\n    </tr>\n    <tr>\n      <th>3</th>\n      <td>SixEleven</td>\n      <td>SHA-256</td>\n      <td>PoW</td>\n      <td>NaN</td>\n      <td>611000</td>\n    </tr>\n    <tr>\n      <th>4</th>\n      <td>808</td>\n      <td>SHA-256</td>\n      <td>PoW/PoS</td>\n      <td>0.000000e+00</td>\n      <td>0</td>\n    </tr>\n  </tbody>\n</table>\n</div>"
     },
     "metadata": {},
     "execution_count": 319
    }
   ],
   "source": [
    "# Remove rows with at least 1 null value\n",
    "for column in crypto_df.columns:\n",
    "    print(f\"Column {column} has {crypto_df[column].isnull().sum()} null values\")\n",
    "crypto_df.TotalCoinsMined.dropna(inplace=True)\n",
    "crypto_df.head()"
   ]
  },
  {
   "cell_type": "code",
   "execution_count": 320,
   "metadata": {},
   "outputs": [
    {
     "output_type": "execute_result",
     "data": {
      "text/plain": [
       "         CoinName    Algorithm ProofType  TotalCoinsMined TotalCoinSupply\n",
       "0         42 Coin       Scrypt   PoW/PoS     4.199995e+01              42\n",
       "2         404Coin       Scrypt   PoW/PoS     1.055185e+09       532000000\n",
       "5       EliteCoin          X13   PoW/PoS     2.927942e+10    314159265359\n",
       "7         Bitcoin      SHA-256       PoW     1.792718e+07        21000000\n",
       "8        Ethereum       Ethash       PoW     1.076842e+08               0\n",
       "...           ...          ...       ...              ...             ...\n",
       "1238       ZEPHYR      SHA-256      DPoS     2.000000e+09      2000000000\n",
       "1242      Gapcoin       Scrypt   PoW/PoS     1.493105e+07       250000000\n",
       "1245       Beldex  CryptoNight       PoW     9.802226e+08      1400222610\n",
       "1246      Horizen     Equihash       PoW     7.296538e+06        21000000\n",
       "1247  BitcoinPlus       Scrypt       PoS     1.283270e+05         1000000\n",
       "\n",
       "[532 rows x 5 columns]"
      ],
      "text/html": "<div>\n<style scoped>\n    .dataframe tbody tr th:only-of-type {\n        vertical-align: middle;\n    }\n\n    .dataframe tbody tr th {\n        vertical-align: top;\n    }\n\n    .dataframe thead th {\n        text-align: right;\n    }\n</style>\n<table border=\"1\" class=\"dataframe\">\n  <thead>\n    <tr style=\"text-align: right;\">\n      <th></th>\n      <th>CoinName</th>\n      <th>Algorithm</th>\n      <th>ProofType</th>\n      <th>TotalCoinsMined</th>\n      <th>TotalCoinSupply</th>\n    </tr>\n  </thead>\n  <tbody>\n    <tr>\n      <th>0</th>\n      <td>42 Coin</td>\n      <td>Scrypt</td>\n      <td>PoW/PoS</td>\n      <td>4.199995e+01</td>\n      <td>42</td>\n    </tr>\n    <tr>\n      <th>2</th>\n      <td>404Coin</td>\n      <td>Scrypt</td>\n      <td>PoW/PoS</td>\n      <td>1.055185e+09</td>\n      <td>532000000</td>\n    </tr>\n    <tr>\n      <th>5</th>\n      <td>EliteCoin</td>\n      <td>X13</td>\n      <td>PoW/PoS</td>\n      <td>2.927942e+10</td>\n      <td>314159265359</td>\n    </tr>\n    <tr>\n      <th>7</th>\n      <td>Bitcoin</td>\n      <td>SHA-256</td>\n      <td>PoW</td>\n      <td>1.792718e+07</td>\n      <td>21000000</td>\n    </tr>\n    <tr>\n      <th>8</th>\n      <td>Ethereum</td>\n      <td>Ethash</td>\n      <td>PoW</td>\n      <td>1.076842e+08</td>\n      <td>0</td>\n    </tr>\n    <tr>\n      <th>...</th>\n      <td>...</td>\n      <td>...</td>\n      <td>...</td>\n      <td>...</td>\n      <td>...</td>\n    </tr>\n    <tr>\n      <th>1238</th>\n      <td>ZEPHYR</td>\n      <td>SHA-256</td>\n      <td>DPoS</td>\n      <td>2.000000e+09</td>\n      <td>2000000000</td>\n    </tr>\n    <tr>\n      <th>1242</th>\n      <td>Gapcoin</td>\n      <td>Scrypt</td>\n      <td>PoW/PoS</td>\n      <td>1.493105e+07</td>\n      <td>250000000</td>\n    </tr>\n    <tr>\n      <th>1245</th>\n      <td>Beldex</td>\n      <td>CryptoNight</td>\n      <td>PoW</td>\n      <td>9.802226e+08</td>\n      <td>1400222610</td>\n    </tr>\n    <tr>\n      <th>1246</th>\n      <td>Horizen</td>\n      <td>Equihash</td>\n      <td>PoW</td>\n      <td>7.296538e+06</td>\n      <td>21000000</td>\n    </tr>\n    <tr>\n      <th>1247</th>\n      <td>BitcoinPlus</td>\n      <td>Scrypt</td>\n      <td>PoS</td>\n      <td>1.283270e+05</td>\n      <td>1000000</td>\n    </tr>\n  </tbody>\n</table>\n<p>532 rows × 5 columns</p>\n</div>"
     },
     "metadata": {},
     "execution_count": 320
    }
   ],
   "source": [
    "# Remove rows with cryptocurrencies having no coins mined\n",
    "crypto_df.dropna(inplace=True)\n",
    "crypto_df = crypto_df[crypto_df.TotalCoinsMined > 0]\n",
    "crypto_df"
   ]
  },
  {
   "cell_type": "code",
   "execution_count": 321,
   "metadata": {},
   "outputs": [
    {
     "output_type": "execute_result",
     "data": {
      "text/plain": [
       "         CoinName    Algorithm ProofType  TotalCoinsMined TotalCoinSupply\n",
       "0         42 Coin       Scrypt   PoW/PoS     4.199995e+01              42\n",
       "2         404Coin       Scrypt   PoW/PoS     1.055185e+09       532000000\n",
       "5       EliteCoin          X13   PoW/PoS     2.927942e+10    314159265359\n",
       "7         Bitcoin      SHA-256       PoW     1.792718e+07        21000000\n",
       "8        Ethereum       Ethash       PoW     1.076842e+08               0\n",
       "...           ...          ...       ...              ...             ...\n",
       "1238       ZEPHYR      SHA-256      DPoS     2.000000e+09      2000000000\n",
       "1242      Gapcoin       Scrypt   PoW/PoS     1.493105e+07       250000000\n",
       "1245       Beldex  CryptoNight       PoW     9.802226e+08      1400222610\n",
       "1246      Horizen     Equihash       PoW     7.296538e+06        21000000\n",
       "1247  BitcoinPlus       Scrypt       PoS     1.283270e+05         1000000\n",
       "\n",
       "[532 rows x 5 columns]"
      ],
      "text/html": "<div>\n<style scoped>\n    .dataframe tbody tr th:only-of-type {\n        vertical-align: middle;\n    }\n\n    .dataframe tbody tr th {\n        vertical-align: top;\n    }\n\n    .dataframe thead th {\n        text-align: right;\n    }\n</style>\n<table border=\"1\" class=\"dataframe\">\n  <thead>\n    <tr style=\"text-align: right;\">\n      <th></th>\n      <th>CoinName</th>\n      <th>Algorithm</th>\n      <th>ProofType</th>\n      <th>TotalCoinsMined</th>\n      <th>TotalCoinSupply</th>\n    </tr>\n  </thead>\n  <tbody>\n    <tr>\n      <th>0</th>\n      <td>42 Coin</td>\n      <td>Scrypt</td>\n      <td>PoW/PoS</td>\n      <td>4.199995e+01</td>\n      <td>42</td>\n    </tr>\n    <tr>\n      <th>2</th>\n      <td>404Coin</td>\n      <td>Scrypt</td>\n      <td>PoW/PoS</td>\n      <td>1.055185e+09</td>\n      <td>532000000</td>\n    </tr>\n    <tr>\n      <th>5</th>\n      <td>EliteCoin</td>\n      <td>X13</td>\n      <td>PoW/PoS</td>\n      <td>2.927942e+10</td>\n      <td>314159265359</td>\n    </tr>\n    <tr>\n      <th>7</th>\n      <td>Bitcoin</td>\n      <td>SHA-256</td>\n      <td>PoW</td>\n      <td>1.792718e+07</td>\n      <td>21000000</td>\n    </tr>\n    <tr>\n      <th>8</th>\n      <td>Ethereum</td>\n      <td>Ethash</td>\n      <td>PoW</td>\n      <td>1.076842e+08</td>\n      <td>0</td>\n    </tr>\n    <tr>\n      <th>...</th>\n      <td>...</td>\n      <td>...</td>\n      <td>...</td>\n      <td>...</td>\n      <td>...</td>\n    </tr>\n    <tr>\n      <th>1238</th>\n      <td>ZEPHYR</td>\n      <td>SHA-256</td>\n      <td>DPoS</td>\n      <td>2.000000e+09</td>\n      <td>2000000000</td>\n    </tr>\n    <tr>\n      <th>1242</th>\n      <td>Gapcoin</td>\n      <td>Scrypt</td>\n      <td>PoW/PoS</td>\n      <td>1.493105e+07</td>\n      <td>250000000</td>\n    </tr>\n    <tr>\n      <th>1245</th>\n      <td>Beldex</td>\n      <td>CryptoNight</td>\n      <td>PoW</td>\n      <td>9.802226e+08</td>\n      <td>1400222610</td>\n    </tr>\n    <tr>\n      <th>1246</th>\n      <td>Horizen</td>\n      <td>Equihash</td>\n      <td>PoW</td>\n      <td>7.296538e+06</td>\n      <td>21000000</td>\n    </tr>\n    <tr>\n      <th>1247</th>\n      <td>BitcoinPlus</td>\n      <td>Scrypt</td>\n      <td>PoS</td>\n      <td>1.283270e+05</td>\n      <td>1000000</td>\n    </tr>\n  </tbody>\n</table>\n<p>532 rows × 5 columns</p>\n</div>"
     },
     "metadata": {},
     "execution_count": 321
    }
   ],
   "source": [
    "# Drop rows where there are 'N/A' text values\n",
    "for column in crypto_df.columns:\n",
    "    crypto_df = crypto_df[crypto_df[column] != \"N/A\"]\n",
    "crypto_df"
   ]
  },
  {
   "cell_type": "code",
   "execution_count": 322,
   "metadata": {},
   "outputs": [],
   "source": [
    "# Store the 'CoinName'column in its own DataFrame prior to dropping it from crypto_df\n",
    "names_list = [name for name in crypto_df.CoinName]\n",
    "#names_set = set(names_list)\n",
    "coins_name = pd.DataFrame(names_list)\n",
    "coins_name.index = crypto_df.index"
   ]
  },
  {
   "cell_type": "code",
   "execution_count": 323,
   "metadata": {},
   "outputs": [],
   "source": [
    "# Drop the 'CoinName' column since it's not going to be used on the clustering algorithm\n",
    "crypto_df.drop(columns='CoinName', inplace=True)"
   ]
  },
  {
   "cell_type": "code",
   "execution_count": 343,
   "metadata": {},
   "outputs": [],
   "source": [
    "# Create dummy variables for text features\n",
    "X = pd.get_dummies(crypto_df)"
   ]
  },
  {
   "cell_type": "code",
   "execution_count": 344,
   "metadata": {},
   "outputs": [
    {
     "output_type": "execute_result",
     "data": {
      "text/plain": [
       "array([[-0.11710817, -0.0433963 , -0.0433963 , ..., -0.0433963 ,\n",
       "        -0.0433963 , -0.0433963 ],\n",
       "       [-0.09396955, -0.0433963 , -0.0433963 , ..., -0.0433963 ,\n",
       "        -0.0433963 , -0.0433963 ],\n",
       "       [ 0.52494561, -0.0433963 , -0.0433963 , ..., -0.0433963 ,\n",
       "        -0.0433963 , -0.0433963 ],\n",
       "       ...,\n",
       "       [-0.09561336, -0.0433963 , -0.0433963 , ..., -0.0433963 ,\n",
       "        -0.0433963 , -0.0433963 ],\n",
       "       [-0.11694817, -0.0433963 , -0.0433963 , ..., -0.0433963 ,\n",
       "        -0.0433963 , -0.0433963 ],\n",
       "       [-0.11710536, -0.0433963 , -0.0433963 , ..., -0.0433963 ,\n",
       "        -0.0433963 , -0.0433963 ]])"
      ]
     },
     "metadata": {},
     "execution_count": 344
    }
   ],
   "source": [
    "# Standardize data\n",
    "data_scaler = StandardScaler()\n",
    "data_scaler.fit_transform(X)"
   ]
  },
  {
   "cell_type": "markdown",
   "metadata": {},
   "source": [
    "### Reducing Dimensions Using PCA"
   ]
  },
  {
   "cell_type": "code",
   "execution_count": 326,
   "metadata": {},
   "outputs": [],
   "source": [
    "# Use PCA to reduce dimensions to 3 principal components\n"
   ]
  },
  {
   "cell_type": "code",
   "execution_count": 327,
   "metadata": {},
   "outputs": [],
   "source": [
    "# Create a DataFrame with the principal components data\n"
   ]
  },
  {
   "cell_type": "markdown",
   "metadata": {},
   "source": [
    "### Clustering Crytocurrencies Using K-Means\n",
    "\n",
    "#### Find the Best Value for `k` Using the Elbow Curve"
   ]
  },
  {
   "cell_type": "code",
   "execution_count": 328,
   "metadata": {},
   "outputs": [],
   "source": [
    "inertia = []\n",
    "k = list(range(1, 11))\n",
    "\n",
    "# Calculate the inertia for the range of k values\n",
    "\n",
    "\n",
    "# Create the Elbow Curve using hvPlot\n"
   ]
  },
  {
   "cell_type": "markdown",
   "metadata": {},
   "source": [
    "Running K-Means with `k=<your best value for k here>`"
   ]
  },
  {
   "cell_type": "code",
   "execution_count": 329,
   "metadata": {},
   "outputs": [],
   "source": [
    "# Initialize the K-Means model\n",
    "\n",
    "# Fit the model\n",
    "\n",
    "# Predict clusters\n",
    "\n",
    "# Create a new DataFrame including predicted clusters and cryptocurrencies features\n"
   ]
  },
  {
   "cell_type": "markdown",
   "metadata": {},
   "source": [
    "### Visualizing Results\n",
    "\n",
    "#### 3D-Scatter with Clusters"
   ]
  },
  {
   "cell_type": "code",
   "execution_count": 330,
   "metadata": {},
   "outputs": [],
   "source": [
    "# Create a 3D-Scatter with the PCA data and the clusters\n"
   ]
  },
  {
   "cell_type": "markdown",
   "metadata": {},
   "source": [
    "#### Table of Tradable Cryptocurrencies"
   ]
  },
  {
   "cell_type": "code",
   "execution_count": 331,
   "metadata": {},
   "outputs": [],
   "source": [
    "# Table with tradable cryptos\n"
   ]
  },
  {
   "cell_type": "code",
   "execution_count": 332,
   "metadata": {},
   "outputs": [],
   "source": [
    "# Print the total number of tradable cryptocurrencies\n"
   ]
  },
  {
   "cell_type": "markdown",
   "metadata": {},
   "source": [
    "#### Scatter Plot with Tradable Cryptocurrencies"
   ]
  },
  {
   "cell_type": "code",
   "execution_count": 333,
   "metadata": {},
   "outputs": [],
   "source": [
    "# Scale data to create the scatter plot\n"
   ]
  },
  {
   "cell_type": "code",
   "execution_count": 334,
   "metadata": {},
   "outputs": [],
   "source": [
    "# Plot the scatter with x=\"TotalCoinsMined\" and y=\"TotalCoinSupply\"\n"
   ]
  }
 ],
 "metadata": {
  "file_extension": ".py",
  "kernelspec": {
   "name": "python3",
   "display_name": "Python 3.8.3 64-bit (conda)",
   "metadata": {
    "interpreter": {
     "hash": "b3ba2566441a7c06988d0923437866b63cedc61552a5af99d1f4fb67d367b25f"
    }
   }
  },
  "language_info": {
   "codemirror_mode": {
    "name": "ipython",
    "version": 3
   },
   "file_extension": ".py",
   "mimetype": "text/x-python",
   "name": "python",
   "nbconvert_exporter": "python",
   "pygments_lexer": "ipython3",
   "version": "3.8.3-final"
  },
  "mimetype": "text/x-python",
  "name": "python",
  "npconvert_exporter": "python",
  "pygments_lexer": "ipython3",
  "version": 3
 },
 "nbformat": 4,
 "nbformat_minor": 4
}